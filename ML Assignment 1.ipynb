{
 "cells": [
  {
   "cell_type": "code",
   "execution_count": 1,
   "metadata": {},
   "outputs": [
    {
     "name": "stdout",
     "output_type": "stream",
     "text": [
      "19 26\n",
      "[19, 22, 19, 24, 20, 25, 26, 24, 25, 24, 19, 26]\n",
      "24.0\n",
      "22.75\n",
      "7\n"
     ]
    }
   ],
   "source": [
    "ages = [19, 22, 19, 24, 20, 25, 26, 24, 25, 24]\n",
    "sorted_ages=sorted(ages)\n",
    "\n",
    "#Sorting the list and find the min and max age\n",
    "\n",
    "min_age,max_age=sorted_ages[0],sorted_ages[-1]\n",
    "print(min_age,max_age)\n",
    "\n",
    "#Adding the min age and the max age again to the list\n",
    "\n",
    "ages.append(min_age)\n",
    "ages.append(max_age)\n",
    "sorted_ages=sorted(ages)\n",
    "print(ages)\n",
    "\n",
    "#Finding the median age (one middle item or two middle items divided by two)\n",
    "\n",
    "if(len(ages)%2==0):\n",
    "    median_age=(sorted_ages[(int(len(ages)/2))-1]+sorted_ages[int(len(ages)/2)])/2\n",
    "else:\n",
    "    median_age=sorted_ages[int(((len(ages)-1)/2)+0.5)]\n",
    "print(median_age)\n",
    "\n",
    "#Finding the average age (sum of all items divided by their number)\n",
    "\n",
    "avg_sum=sum(ages)/len(ages)\n",
    "print(avg_sum)\n",
    "\n",
    "#Finding the range of the ages (max minus min)\n",
    "\n",
    "range_ages=max_age-min_age\n",
    "print(range_ages)\n"
   ]
  },
  {
   "cell_type": "code",
   "execution_count": 3,
   "metadata": {},
   "outputs": [
    {
     "name": "stdout",
     "output_type": "stream",
     "text": [
      "dict_keys(['name', 'color', 'breed', 'legs', 'age'])\n",
      "9\n",
      "<class 'list'>\n",
      "['first_name', 'last_name', 'gender', 'age', 'marital_status', 'skills', 'country', 'city', 'address']\n",
      "['nistala', 'sai ram', 'm', '21', 'single', ['reading', 'writing', 'playing', 'coding'], 'USA', 'Kansas', '6810 W 138th street']\n"
     ]
    }
   ],
   "source": [
    "#Create an empty dictionary called dog\n",
    "\n",
    "dog={}\n",
    "\n",
    "#Add name, color, breed, legs, age to the dog dictionary\n",
    "\n",
    "dog.update({\"name\":\"charlie\"})\n",
    "dog.update({\"color\":\"black\"})\n",
    "dog.update({\"breed\":\"golden retriver\"})\n",
    "dog.update({\"legs\":\"4\"})\n",
    "dog.update({\"age\":\"3\"})\n",
    "print(dog.keys())\n",
    "\n",
    "#Create a student dictionary and add first_name, last_name, gender, age, marital status, skills, country, city and address as keys for the dictionary\n",
    "\n",
    "student={\n",
    "    \"first_name\":\"nistala\",\n",
    "    \"last_name\":\"sai ram\",\n",
    "    \"gender\":\"m\",\n",
    "    \"age\":\"21\",\n",
    "    \"marital_status\":\"single\",\n",
    "    \"skills\":[\"reading\",\"writing\"],\n",
    "    \"country\":\"USA\",\n",
    "    \"city\":\"Kansas\",\n",
    "    \"address\":\"6810 W 138th street\"\n",
    "}\n",
    "\n",
    "#Get the length of the student dictionary\n",
    "len_student=(len(student.keys()))\n",
    "print(len_student)\n",
    "\n",
    "#Get the value of skills and check the data type, it should be a list\n",
    "\n",
    "print(type(student['skills']))\n",
    "\n",
    "#Modify the skills values by adding one or two skills\n",
    "\n",
    "student['skills'].append(\"playing\")\n",
    "student['skills'].append(\"coding\")\n",
    "\n",
    "#Get the dictionary keys as a list\n",
    "\n",
    "student_keys=[]\n",
    "for i in student.keys():\n",
    "    student_keys.append(i)\n",
    "print(student_keys)\n",
    "\n",
    "#Get the dictionary values as a list\n",
    "\n",
    "student_val=[]\n",
    "for i in student.values():\n",
    "    student_val.append(i)\n",
    "print(student_val)\n"
   ]
  },
  {
   "cell_type": "code",
   "execution_count": 7,
   "metadata": {},
   "outputs": [
    {
     "name": "stdout",
     "output_type": "stream",
     "text": [
      "('sowmya', 'maha', 'ramya', 'pranavi', 'phani', 'RK', 'joshi')\n",
      "7\n",
      "('sowmya', 'maha', 'ramya', 'pranavi', 'phani', 'RK', 'joshi', 'nag', 'parvathi')\n"
     ]
    }
   ],
   "source": [
    "#Create a tuple containing names of your sisters and your brothers (imaginary siblings are fine)\n",
    "\n",
    "sisters=(\"sowmya\",\"maha\",\"ramya\",\"pranavi\")\n",
    "brothers=(\"phani\",'RK',\"joshi\")\n",
    "\n",
    "#Join brothers and sisters tuples and assign it to siblings\n",
    "\n",
    "siblings=sisters+brothers\n",
    "print(siblings)\n",
    "\n",
    "#How many siblings do you have?\n",
    "      \n",
    "len_siblings=len(siblings)\n",
    "print(len_siblings)\n",
    "\n",
    "#Modify the siblings tuple and add the name of your father and mother and assign it to family_members\n",
    "\n",
    "siblings += (\"nag\",\"parvathi\")\n",
    "print(siblings)\n"
   ]
  },
  {
   "cell_type": "code",
   "execution_count": 8,
   "metadata": {},
   "outputs": [
    {
     "name": "stdout",
     "output_type": "stream",
     "text": [
      "7\n",
      "{'Google', 'infosys', 'Facebook', 'Microsoft', 'IBM', 'Accenture', 'meta', 'Twitter', 'Amazon', 'Apple', 'Oracle'}\n",
      "{19, 20, 22, 24, 25, 26, 27, 28} {19, 20, 22, 24, 25, 26, 27, 28}\n",
      "5 8\n"
     ]
    }
   ],
   "source": [
    "it_companies = {'Facebook', 'Google', 'Microsoft', 'Apple', 'IBM', 'Oracle', 'Amazon'} \n",
    "A = {19, 22, 24, 20, 25, 26}\n",
    "B = {19, 22, 20, 25, 26, 24, 28, 27}\n",
    "age = [22, 19, 24, 25, 26, 24, 25, 24]\n",
    "#Find the length of the set it_companies\n",
    "print(len(it_companies))\n",
    "#Add 'Twitter' to it_companies\n",
    "it_companies.add(\"meta\")\n",
    "it_companies.update({\"Twitter\"})\n",
    "#Insert multiple IT companies at once to the set it_companies\n",
    "it_companies.update({\"TCS\",\"Accenture\",\"infosys\"})\n",
    "#Remove one of the companies from the set it_companies\n",
    "it_companies.remove(\"TCS\")\n",
    "print(it_companies)\n",
    "#What is the difference between remove and discard\n",
    "it_companies.discard(\"sky\") # this command does not throw any error even if key is not found\n",
    "#it_companies.remove(\"sky\") # this command throws an error if key is not found\n",
    "#Join A and B\n",
    "join= A | B\n",
    "#Find A intersection B\n",
    "intersection= A & B\n",
    "#Is A subset of B\n",
    "is_subset= A.issubset(B)\n",
    "#Are A and B disjoint sets\n",
    "is_disjoint= A.isdisjoint(B)\n",
    "#Join A with B and B with A\n",
    "Tempset=A\n",
    "A=A.union(B)\n",
    "B=B.union(Tempset)\n",
    "print(A,B)\n",
    "#What is the symmetric difference between A and B\n",
    "symmetric_diff=A.symmetric_difference(B)\n",
    "#the symmetric difference of 2 sets return the elements present \n",
    "#in the set except the elements precent in both sets\n",
    "#Delete the sets completely\n",
    "it_companies.clear()\n",
    "#Convert the ages to a set and compare the length of the list and the set.\n",
    "set_age=set(age)\n",
    "print(len(set_age),len(age))"
   ]
  },
  {
   "cell_type": "code",
   "execution_count": 9,
   "metadata": {},
   "outputs": [
    {
     "name": "stdout",
     "output_type": "stream",
     "text": [
      "the area of circle is 154.0 and it's circumference is 44.0\n"
     ]
    }
   ],
   "source": [
    "radius=int(input(\"enter the radius of circle : \"))\n",
    "area=((22/7)*radius*radius)\n",
    "_circum_of_circle=(2*(22/7)*radius)\n",
    "print(f\"the area of circle is {area} and it's circumference is {_circum_of_circle}\" )\n"
   ]
  },
  {
   "cell_type": "code",
   "execution_count": 1,
   "metadata": {},
   "outputs": [
    {
     "name": "stdout",
     "output_type": "stream",
     "text": [
      "10\n"
     ]
    }
   ],
   "source": [
    "string=\"I am a teacher and I love to inspire and teach people\"\n",
    "unique_words=set(string.split(\" \")) \n",
    "print(len(unique_words))\n"
   ]
  },
  {
   "cell_type": "code",
   "execution_count": 4,
   "metadata": {},
   "outputs": [
    {
     "name": "stdout",
     "output_type": "stream",
     "text": [
      "Name\t\tAge\tCountry\t\tCity\n",
      "Asabeneh\t250\tFinland\t\tHelsinki\n"
     ]
    }
   ],
   "source": [
    "print(\"Name\\t\\tAge\\tCountry\\t\\tCity\\nAsabeneh\\t250\\tFinland\\t\\tHelsinki\")\n"
   ]
  },
  {
   "cell_type": "code",
   "execution_count": 10,
   "metadata": {},
   "outputs": [
    {
     "name": "stdout",
     "output_type": "stream",
     "text": [
      "The area of circle with radius 10 is 314 meters square\n"
     ]
    }
   ],
   "source": [
    "radius=10\n",
    "area=((3.14)*(radius**2))\n",
    "print(f'The area of circle with radius {radius} is {int(area)} meters square')\n"
   ]
  },
  {
   "cell_type": "code",
   "execution_count": 11,
   "metadata": {},
   "outputs": [
    {
     "name": "stdout",
     "output_type": "stream",
     "text": [
      "[68.03, 72.56, 77.55]\n"
     ]
    }
   ],
   "source": [
    "n=int(input())\n",
    "lbs=[]\n",
    "kgs=[]\n",
    "for i in range(n):\n",
    "    x=float(input())\n",
    "    lbs.append(x)\n",
    "    kgs.append(round(x/2.205,2)) # divided the value by constant\n",
    "print(kgs)"
   ]
  }
 ],
 "metadata": {
  "kernelspec": {
   "display_name": "Python 3.9.6 64-bit",
   "language": "python",
   "name": "python3"
  },
  "language_info": {
   "codemirror_mode": {
    "name": "ipython",
    "version": 3
   },
   "file_extension": ".py",
   "mimetype": "text/x-python",
   "name": "python",
   "nbconvert_exporter": "python",
   "pygments_lexer": "ipython3",
   "version": "3.9.6"
  },
  "orig_nbformat": 4,
  "vscode": {
   "interpreter": {
    "hash": "31f2aee4e71d21fbe5cf8b01ff0e069b9275f58929596ceb00d14d90e3e16cd6"
   }
  }
 },
 "nbformat": 4,
 "nbformat_minor": 2
}
